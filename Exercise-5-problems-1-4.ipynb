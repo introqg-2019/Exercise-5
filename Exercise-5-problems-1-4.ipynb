{
 "cells": [
  {
   "cell_type": "markdown",
   "metadata": {
    "deletable": false,
    "editable": false,
    "nbgrader": {
     "cell_type": "markdown",
     "checksum": "2d6236ec983edf6755223059fec395b8",
     "grade": false,
     "grade_id": "cell-f91fdb5001d60d49",
     "locked": true,
     "schema_version": 3,
     "solution": false,
     "task": false
    }
   },
   "source": [
    "# Problem 0: Feedback on the course so far (*1 point*)\n",
    "\n",
    "To start the exercise this week, we would like to ask for your feedback on the course thus far. Please provide anonymous feedback at the link below.\n",
    "\n",
    "Course feedback link: [https://elomake.helsinki.fi/lomakkeet/102085/lomake.html](https://elomake.helsinki.fi/lomakkeet/102085/lomake.html)\n",
    "\n",
    "On the feedback form, you will find a secret word. Enter that word as the character string variable `secret_word` in the Python cell below for one point in this week's exercise :).\n",
    "\n",
    "**Your score on this problem will be based on following criteria**:\n",
    "\n",
    "- Providing some course feedback using the link above\n",
    "- Entering the secret word in the Python cell below\n",
    "- Uploading your notebook to your GitHub repository for this week's exercise"
   ]
  },
  {
   "cell_type": "code",
   "execution_count": null,
   "metadata": {
    "deletable": false,
    "nbgrader": {
     "cell_type": "code",
     "checksum": "58c85681f9d1e851f30a7e26f5a467f7",
     "grade": false,
     "grade_id": "problem_1_ag_p0_feedback",
     "locked": false,
     "schema_version": 3,
     "solution": true,
     "task": false
    }
   },
   "outputs": [],
   "source": [
    "# Enter the secret word below\n",
    "secret_word = None\n",
    "\n",
    "# YOUR CODE HERE\n",
    "raise NotImplementedError()"
   ]
  },
  {
   "cell_type": "code",
   "execution_count": null,
   "metadata": {
    "deletable": false,
    "editable": false,
    "nbgrader": {
     "cell_type": "code",
     "checksum": "6cd8756b536dbd2963760e497daad3ca",
     "grade": true,
     "grade_id": "problem_1_ag_p0_feedback_test1",
     "locked": true,
     "points": 1,
     "schema_version": 3,
     "solution": false,
     "task": false
    }
   },
   "outputs": [],
   "source": [
    "# This test should work\n",
    "print('The secret word is {0}!'.format(secret_word))\n"
   ]
  },
  {
   "cell_type": "markdown",
   "metadata": {
    "deletable": false,
    "editable": false,
    "nbgrader": {
     "cell_type": "markdown",
     "checksum": "1ec0924c3ff77a7e52e0e02d67a0e6e1",
     "grade": false,
     "grade_id": "cell-005b6534a2f43b1b",
     "locked": true,
     "schema_version": 3,
     "solution": false
    }
   },
   "source": [
    "# Problem 2 - Ice flow in an open channel (*5 points*)\n",
    "\n",
    "The goal of this problem is to calculate horizontal velocity profiles across a glacier for Newtonian and non-Newtonian fluid flow resulting from a pressure gradient.\n",
    "\n",
    "**Notice**: Closely follow the instructions! For example, you should be sure to use **exactly** the same variable names mentioned in the instructions because your answers will be automatically graded, and the tests that grade your answers rely on following the same formatting or variable naming as in the instructions.\n",
    "\n",
    "**Your score on this problem will be based on following criteria**:\n",
    "\n",
    "- Creating a Python function for calculating the pressure gradient\n",
    "- Creating a Python function for the channel flow velocity\n",
    "- Calculating and plotting ice velocities in a channel\n",
    "- Including comments that explain what most lines in the code do\n",
    "- Uploading your notebook to your GitHub repository for this week's exercise"
   ]
  },
  {
   "cell_type": "markdown",
   "metadata": {
    "deletable": false,
    "editable": false,
    "nbgrader": {
     "cell_type": "markdown",
     "checksum": "e3a128f73a462ae2e3a5979e485603b0",
     "grade": false,
     "grade_id": "cell-0713deadb7cdb9f9",
     "locked": true,
     "schema_version": 3,
     "solution": false,
     "task": false
    }
   },
   "source": [
    "## Part 1: Background and getting started (*0 points*)\n",
    "\n",
    "Before you start you should read through the [background and theory](https://introqg.github.io/site/lessons/L5/exercise-5-theory.html#problem-1) for this problem. The other parts of this problem will refer to items described in this theory text. You should also run the two Python cells below to configuring plotting for this exercise and load the modules we will be using.\n",
    "\n",
    "- Read through the [background and theory](https://introqg.github.io/site/lessons/L5/exercise-5-theory.html#problem-1) for this problem\n",
    "- Run the two Python cells below"
   ]
  },
  {
   "cell_type": "code",
   "execution_count": null,
   "metadata": {
    "deletable": false,
    "editable": false,
    "nbgrader": {
     "cell_type": "code",
     "checksum": "a4f090ac72faeb7a65d5d9b37506601a",
     "grade": false,
     "grade_id": "cell-4ec015c5dbcdef4a",
     "locked": true,
     "schema_version": 3,
     "solution": false
    }
   },
   "outputs": [],
   "source": [
    "# Enable inline plotting\n",
    "%matplotlib inline"
   ]
  },
  {
   "cell_type": "code",
   "execution_count": null,
   "metadata": {
    "deletable": false,
    "editable": false,
    "nbgrader": {
     "cell_type": "code",
     "checksum": "7970ae3a675baa1b66b6e4d1741b823c",
     "grade": false,
     "grade_id": "cell-8237286711a6c7fa",
     "locked": true,
     "schema_version": 3,
     "solution": false
    }
   },
   "outputs": [],
   "source": [
    "# Import NumPy and pandas\n",
    "import numpy as np\n",
    "import pandas as pd"
   ]
  },
  {
   "cell_type": "markdown",
   "metadata": {
    "deletable": false,
    "editable": false,
    "nbgrader": {
     "cell_type": "markdown",
     "checksum": "bbb552981792ab6e5d2ac70026ef510a",
     "grade": false,
     "grade_id": "cell-936f5cea4af18b4c",
     "locked": true,
     "schema_version": 3,
     "solution": false,
     "task": false
    }
   },
   "source": [
    "## Part 2: A pressure gradient function?!? (*1 point*)\n",
    "\n",
    "As mentioned in the description of the problem, we will be calculating velocities of ice at the surface as we cross a glacial valley. We can calculate the ice velocity using Equation 10 from the [background and theory](https://introqg.github.io/site/lessons/L5/exercise-5-theory.html#problem-1), which is also shown below\n",
    "\n",
    "\\begin{equation}\n",
    "  \\large\n",
    "  u(y) = \\frac{a}{n + 1} \\left( \\frac{p_{1} - p_{0}}{L} \\right)^{n} \\left[ \\left( \\frac{h}{2} \\right)^{n + 1} - y^{n + 1} \\right]\n",
    "\\end{equation}\n",
    "\n",
    "where $a$ is a function of the viscosity and temperature (we will ignore temperature for now), $n$ is the power-law exponent, $\\frac{p_{1} - p_{0}}{L}$ is the pressure gradient in the channel, $h$ is the channel width, and $y$ is array for distance from the center of the channel. The only problem here is that the value for the pressure gradient $\\left(\\frac{p_{1} - p_{0}}{L}\\right)^{n}$ is not known. Thus, our first step is to create a function to estimate its value from some of the observed velocities for the Saskatchewan glacier.\n",
    "\n",
    "- Create a function called `channel_pressure` that calculates the value of $\\left(\\frac{p_{1} - p_{0}}{L}\\right)^{n}$ for a given value of the power-law exponent `n`.\n",
    "    - You can solve for $\\left(\\frac{p_{1} - p_{0}}{L}\\right)^{n}$ by rearranging Equation 10 (see above) to solve for $\\left(\\frac{p_{1} - p_{0}}{L}\\right)^{n}$ and using the condition that the maximum flow velocity $u = 2.41 \\times 10^{-6}$ m/s occurs at $y = 0$ (see Table 1 in Part 4).\n",
    "    - Assume $a = 5 \\times 10^{-24}$ Pa<sup>-3</sup> s<sup>-1</sup> and $h = 1400$ m.\n",
    "    - Your function parameters should include\n",
    "        - The power-law exponent `n`\n",
    "        - The channel width `h`\n",
    "        - The viscosity/temperature constant `a`\n",
    "        - The channel velocity at y = 0 `u_max`"
   ]
  },
  {
   "cell_type": "code",
   "execution_count": null,
   "metadata": {
    "deletable": false,
    "nbgrader": {
     "cell_type": "code",
     "checksum": "aecf819752a95aad19226d3dbc3e4ec2",
     "grade": false,
     "grade_id": "problem_2_ag_p2_pressure",
     "locked": false,
     "schema_version": 3,
     "solution": true,
     "task": false
    }
   },
   "outputs": [],
   "source": [
    "def channel_pressure(n, h=1400.0, a=5.0e-24, u_max=2.41e-6):\n",
    "    \"\"\"Calculate ice channel pressure gradient.\n",
    "    \n",
    "    Keyword arguments:\n",
    "    n -- viscous flow power-law expoenent\n",
    "    h -- channel width (units: m; default: 1400.0)\n",
    "    a -- viscosity/temperature constant (units: Pa^-3 s^-1; default: 5.0e-24)\n",
    "    u_max -- Approximate channel velocity at y = 0 (units: m/s; default: 2.41e-6)\n",
    "    \"\"\"\n",
    "# YOUR CODE HERE\n",
    "raise NotImplementedError()"
   ]
  },
  {
   "cell_type": "code",
   "execution_count": null,
   "metadata": {
    "deletable": false,
    "editable": false,
    "nbgrader": {
     "cell_type": "code",
     "checksum": "7dde72300663c0d59dea30e4291dc925",
     "grade": true,
     "grade_id": "problem_2_ag_p2_pressure_test1",
     "locked": true,
     "points": 0.5,
     "schema_version": 3,
     "solution": false,
     "task": false
    }
   },
   "outputs": [],
   "source": [
    "# The visible tests below should work\n",
    "from nose.tools import assert_equal\n",
    "\n",
    "# Function test calculations\n",
    "pressure1 = channel_pressure(n=3, h=1400.0, a=5.0e-24, u_max=2.41e-6)\n",
    "\n",
    "# Print results\n",
    "print('The pressure gradient for n=3 should be 8029987.50521. My pressure gradient value is {0:.5f}'.format(pressure1))\n",
    "\n",
    "# Check the other test calculations\n",
    "assert_equal(round(pressure1, 5), 8029987.50521)"
   ]
  },
  {
   "cell_type": "code",
   "execution_count": null,
   "metadata": {
    "deletable": false,
    "editable": false,
    "nbgrader": {
     "cell_type": "code",
     "checksum": "639e09e538eb2cc06228d045da9d4a95",
     "grade": true,
     "grade_id": "problem_2_ag_p2_pressure_test2",
     "locked": true,
     "points": 0.5,
     "schema_version": 3,
     "solution": false,
     "task": false
    }
   },
   "outputs": [],
   "source": [
    "# The visible tests below should work\n",
    "\n",
    "# Function test calculations\n",
    "pressure2 = channel_pressure(n=6, h=1400.0, a=5.0e-24, u_max=2.41e-6)\n",
    "pressure3 = channel_pressure(n=1.5, h=1400.0, a=5.0e-24, u_max=2.41e-6)\n",
    "\n",
    "# Print results\n",
    "print('The pressure gradient for n=6 should be 0.04097. My pressure gradient value is {0:.5f}'.format(pressure2))\n",
    "\n",
    "# Check the other test calculations\n",
    "assert_equal(round(pressure2, 5), 0.04097)\n",
    "assert_equal(round(pressure3, 5), 92948406117.57527)"
   ]
  },
  {
   "cell_type": "markdown",
   "metadata": {
    "deletable": false,
    "editable": false,
    "nbgrader": {
     "cell_type": "markdown",
     "checksum": "f67e24ebf4a68b939590d6be480b4cad",
     "grade": false,
     "grade_id": "cell-22aef2bdb4215115",
     "locked": true,
     "schema_version": 3,
     "solution": false
    }
   },
   "source": [
    "## Part 3: An ice flow velocity function (*1 point*)\n",
    "\n",
    "Your next task is to create a function to calculate the velocity (Equation 10) of ice flowing in a channel.\n",
    "\n",
    "- Create a function called `channel_velocity` that calculates the velocity of ice flowing in a channel using Equation 10 from the [background and theory](https://introqg.github.io/site/lessons/L5/exercise-5-theory.html#problem-1), which was shown in the previous part.\n",
    "    - Your function should use the `channel_pressure` function created in the previous part.\n",
    "    - As in the previous part you should assume $a = 5 \\times 10^{-24}$ Pa<sup>-3</sup> s<sup>-1</sup>, $h = 1400$ m, and that the flow is symmetric about $y = 0$.\n",
    "    - Your function parameters should include\n",
    "        - The power-law exponent `n`\n",
    "        - The channel width array `y`\n",
    "        - The channel width `h`\n",
    "        - The viscosity/temperature constant `a`\n",
    "        - The channel velocity at y = 0 `u_max`"
   ]
  },
  {
   "cell_type": "code",
   "execution_count": null,
   "metadata": {
    "deletable": false,
    "nbgrader": {
     "cell_type": "code",
     "checksum": "c4dc4e57f832b3ed30ea0c962551eff6",
     "grade": false,
     "grade_id": "problem_2_ag_p3_velocity",
     "locked": false,
     "schema_version": 3,
     "solution": true
    }
   },
   "outputs": [],
   "source": [
    "def channel_velocity(n, y, h=1400.0, a=5.0e-24, u_max=2.41e-6):\n",
    "    \"\"\"Calculate planform velocity of ice flowing in a channel.\n",
    "    \n",
    "    Keyword arguments:\n",
    "    n -- viscous flow power-law expoenent\n",
    "    y -- array of distances from the channel center (units: m)\n",
    "    h -- arbitrary channel width (units: m; default: 1400.0)\n",
    "    a -- viscosity/temperature constant (units: Pa^-3 s^-1; default: 5.0e-24)\n",
    "    u_max -- Approximate channel velocity at y = 0 (units: m/s; default: 2.41e-6)\n",
    "    \"\"\"\n",
    "# YOUR CODE HERE\n",
    "raise NotImplementedError()"
   ]
  },
  {
   "cell_type": "code",
   "execution_count": null,
   "metadata": {
    "deletable": false,
    "editable": false,
    "nbgrader": {
     "cell_type": "code",
     "checksum": "38b78ca1d287ababf81403df87aa4256",
     "grade": true,
     "grade_id": "problem_2_ag_p3_velocity_test1",
     "locked": true,
     "points": 0.5,
     "schema_version": 3,
     "solution": false
    }
   },
   "outputs": [],
   "source": [
    "# The visible tests below should work\n",
    "from nose.tools import assert_equal\n",
    "\n",
    "# Fake data\n",
    "y1 = np.array([-500.0, -250.0, 0.0, 200.0, 400.0, 600.0])\n",
    "velocity1 = channel_velocity(2, y1)\n",
    "\n",
    "# Print results\n",
    "print('The channel velocity at y1[1] for n = 2 should be 2.30022e-06 m/s. My channel velocity is {0:.5e} m/s.'.format(velocity1[1]))\n",
    "\n",
    "# Check the other test calculations\n",
    "assert_equal(round(velocity1[-1], 8), 8.9e-07)\n",
    "assert_equal(round(velocity1[3], 8), 2.35e-06)"
   ]
  },
  {
   "cell_type": "code",
   "execution_count": null,
   "metadata": {
    "deletable": false,
    "editable": false,
    "nbgrader": {
     "cell_type": "code",
     "checksum": "6ae9ee82e7f0150cc4d188936abf8b43",
     "grade": true,
     "grade_id": "problem_2_ag_p3_velocity_test2",
     "locked": true,
     "points": 0.5,
     "schema_version": 3,
     "solution": false,
     "task": false
    }
   },
   "outputs": [],
   "source": [
    "# The visible tests below should work\n",
    "\n",
    "# Fake data\n",
    "y2 = np.array([-300, -150.0, 0.0, 100.0, 200.0, 300.0])\n",
    "velocity2 = channel_velocity(4, y2)\n",
    "\n",
    "# Print results\n",
    "print('The channel velocity at y2[1] for n = 4 should be 2.40891e-06 m/s. My channel velocity is {0:.5e} m/s.'.format(velocity2[1]))\n",
    "\n",
    "# Check the other test calculations\n",
    "assert_equal(round(velocity2[-1], 8), 2.38e-06)\n",
    "assert_equal(round(velocity2[3], 8), 2.41e-06)"
   ]
  },
  {
   "cell_type": "markdown",
   "metadata": {
    "deletable": false,
    "editable": false,
    "nbgrader": {
     "cell_type": "markdown",
     "checksum": "2d78252f94d3fbb0739238ed5a1c967f",
     "grade": false,
     "grade_id": "cell-a0bb7a59ed8c5aef",
     "locked": true,
     "schema_version": 3,
     "solution": false
    }
   },
   "source": [
    "## Part 4: Calculating ice flow velocities (*1 point*)\n",
    "\n",
    "Your next task is to calculate the flow velocity for ice flowing in a channel using your `channel_velocity` function.\n",
    "\n",
    "- Create a new pandas DataFrame called `channel` to store channel velocities for 1400-m-wide ice channel\n",
    "    - Use `y` as the index for your `channel` DataFrame\n",
    "    - **Hint**: You should define $h = 1400$ m and assume that the flow is symmetric about $y = 0$ and define `y` with a length of 201\n",
    "- Calculate the velocity of ice in a channel as a non-Newtonian fluid with power-law exponents of $n$ = 2, 3, 4, and 5.\n",
    "    - As above, you can assume $a = 5 \\times 10^{-24}$ Pa<sup>-3</sup> s<sup>-1</sup>\n",
    "- Store the output from each call of the `channel_velocity` function for each value of $n$ in your `channel` DataFrame\n",
    "    - You should label the new column in your DataFrame using the power-law exponent. For example, you could have a column called `n = 2` for a power-law exponent of 2.\n",
    "    - **Note**: You should convert your channel velocities from m/s to m/a before storing them in the `channel` DataFrame!\n",
    "    - The hints for this week's exercise may be helpful for this task"
   ]
  },
  {
   "cell_type": "code",
   "execution_count": null,
   "metadata": {
    "deletable": false,
    "nbgrader": {
     "cell_type": "code",
     "checksum": "bc6ea8d7a90d837497eb630c06b83d69",
     "grade": false,
     "grade_id": "problem_2_ag_p4_velocities",
     "locked": false,
     "schema_version": 3,
     "solution": true
    }
   },
   "outputs": [],
   "source": [
    "# Enter your values below\n",
    "h = None\n",
    "y = None\n",
    "channel = None\n",
    "\n",
    "# YOUR CODE HERE\n",
    "raise NotImplementedError()"
   ]
  },
  {
   "cell_type": "code",
   "execution_count": null,
   "metadata": {
    "deletable": false,
    "editable": false,
    "nbgrader": {
     "cell_type": "code",
     "checksum": "19a10949bd15c0ffbb68665c39d5b15e",
     "grade": true,
     "grade_id": "problem_2_ag_p4_velocities_test1",
     "locked": true,
     "points": 1,
     "schema_version": 3,
     "solution": false
    }
   },
   "outputs": [],
   "source": [
    "# These tests should work\n",
    "print('The shape of channel should be (201, 4). My channel shape is {0}.'.format(channel.shape))\n",
    "print('The velocity at channel.iloc[51,0] should be 67.1062 m/a. My velocity is {0:.4f}.'.format(channel.iloc[51,0]))\n"
   ]
  },
  {
   "cell_type": "markdown",
   "metadata": {
    "deletable": false,
    "editable": false,
    "nbgrader": {
     "cell_type": "markdown",
     "checksum": "b9025842d5edcd761272f690b183a425",
     "grade": false,
     "grade_id": "cell-025b16de6a269a19",
     "locked": true,
     "schema_version": 3,
     "solution": false,
     "task": false
    }
   },
   "source": [
    "## Part 5: Plotting your results (*2 points*)\n",
    "\n",
    "Next you can create a plot of the velocity calculations you've done.\n",
    "\n",
    "- Create a plot of the velocity of the ice for all 4 power-law exponents\n",
    "    - Be sure to label your axes and add a title.\n",
    "    - Also be sure your line legend makes it clear which profile is which\n",
    "- Add a figure caption in the Markdown cell beneath the plot, describing the figure as if it were in a scientific journal article"
   ]
  },
  {
   "cell_type": "code",
   "execution_count": null,
   "metadata": {
    "deletable": false,
    "nbgrader": {
     "cell_type": "code",
     "checksum": "7f77f81833891a58b2e9b53c520cd697",
     "grade": true,
     "grade_id": "problem_2_mg_p5_plot",
     "locked": false,
     "points": 1.5,
     "schema_version": 3,
     "solution": true,
     "task": false
    }
   },
   "outputs": [],
   "source": [
    "# Add your plot below\n",
    "ax = None\n",
    "\n",
    "# YOUR CODE HERE\n",
    "raise NotImplementedError()"
   ]
  },
  {
   "cell_type": "markdown",
   "metadata": {
    "deletable": false,
    "nbgrader": {
     "cell_type": "markdown",
     "checksum": "c04d96fe7be4019dc14f6bfbaddb0036",
     "grade": true,
     "grade_id": "problem_2_mg_p5_plot_caption",
     "locked": false,
     "points": 0.5,
     "schema_version": 3,
     "solution": true,
     "task": false
    }
   },
   "source": [
    "YOUR ANSWER HERE"
   ]
  },
  {
   "cell_type": "markdown",
   "metadata": {
    "deletable": false,
    "editable": false,
    "nbgrader": {
     "cell_type": "markdown",
     "checksum": "ced5c12038dc6c825b00bcbd169dcd3a",
     "grade": false,
     "grade_id": "cell-85bc31e63965a084",
     "locked": true,
     "schema_version": 3,
     "solution": false,
     "task": false
    }
   },
   "source": [
    "# Problem 3 - Comparing our model to the Saskatchewan glacier (*6 points*)\n",
    "\n",
    "In this problem we will use the `channel_velocity` function from Problem 2 to compare predicted ice velocities to glacier flow velocities observed for the [Saskatchewan glacier near Banff in Alberta, Canada](https://goo.gl/maps/R9S48J4KYPr) (Figure 1). The Saskatchewan glacier is 1400 m wide and part of a large ice field known as the Columbia Icefield.\n",
    "\n",
    "**Notice**: Closely follow the instructions! For example, you should be sure to use **exactly** the same variable names mentioned in the instructions because your answers will be automatically graded, and the tests that grade your answers rely on following the same formatting or variable naming as in the instructions.\n",
    "\n",
    "**Your score on this problem will be based on following criteria**:\n",
    "\n",
    "- Creating a Python function for goodness of fit\n",
    "- Reading in the data file\n",
    "- Comparing predictions for the ice flow velocity to observations from the data file\n",
    "- Plotting your results\n",
    "- Including comments that explain what most lines in the code do\n",
    "- Uploading your notebook to your GitHub repository for this week's exercise\n",
    "\n",
    "![Saskatchewan glacier](https://upload.wikimedia.org/wikipedia/commons/a/a5/Saskatchewan_Glacier.jpg)<br/>\n",
    "*Figure 1. Saskatchewan glacier.*."
   ]
  },
  {
   "cell_type": "markdown",
   "metadata": {
    "deletable": false,
    "editable": false,
    "nbgrader": {
     "cell_type": "markdown",
     "checksum": "fe129e71be0e41b3791e41c101d4e9a2",
     "grade": false,
     "grade_id": "cell-eebc25576aada730",
     "locked": true,
     "schema_version": 3,
     "solution": false,
     "task": false
    }
   },
   "source": [
    "## Part 1: A modified goodness-of-fit function (*1 point*)\n",
    "\n",
    "The first task for this problem is to create a Python function for calculating a goodness of fit. This will allow us to *quantitatively* compare our ice channel velocity model predictions to data from the Saskatchewan glacier.\n",
    "\n",
    "For this we will use the same goodness-of-fit equation used back in Exercise 3. As a reminder, the equation for goodness-of-fit is\n",
    "\n",
    "\\begin{equation}\n",
    "  \\Large\n",
    "  \\chi^{2} = \\sum \\frac{(O_{i} - E_{i})^{2}}{E_{i}}\n",
    "\\end{equation}\n",
    "\n",
    "where $O_{i}$ is the $i$th observed velocity and $E_{i}$ is the $i$th expected velocity. In this case, the $E_{i}$ values come from our channel velocity function.\n",
    "\n",
    "- Create a goodness-of-fit function called `chi_squared`"
   ]
  },
  {
   "cell_type": "code",
   "execution_count": null,
   "metadata": {
    "deletable": false,
    "nbgrader": {
     "cell_type": "code",
     "checksum": "3ee70394b55fa09b0a8cec07a4082cc7",
     "grade": false,
     "grade_id": "problem_3_ag_p1_function",
     "locked": false,
     "schema_version": 3,
     "solution": true,
     "task": false
    }
   },
   "outputs": [],
   "source": [
    "def chi_squared(observed, expected):\n",
    "    \"\"\"Returns the chi-squared value for input array data.\"\"\"\n",
    "# YOUR CODE HERE\n",
    "raise NotImplementedError()"
   ]
  },
  {
   "cell_type": "code",
   "execution_count": null,
   "metadata": {
    "deletable": false,
    "editable": false,
    "nbgrader": {
     "cell_type": "code",
     "checksum": "b502eee992d089cf9f3e09372dcaf1ee",
     "grade": true,
     "grade_id": "problem_3_ag_p1_function_test1",
     "locked": true,
     "points": 1,
     "schema_version": 3,
     "solution": false,
     "task": false
    }
   },
   "outputs": [],
   "source": [
    "# These visible tests with fake data should work\n",
    "from nose.tools import ok_, assert_equal\n",
    "\n",
    "# Fake data\n",
    "obs1 = np.array([1.1, 2.9, 2.6, 3.5, 5.7, 2.8])\n",
    "exp1 = np.array([1.5, 2.4, 3.6, 1.5, 6.7, 2.6])\n",
    "\n",
    "obs2 = np.array([1.8, 2.3, 2.2, 3.9, 5.5, 2.4])\n",
    "exp2 = np.array([1.2, 2.0, 3.9, 1.7, 6.1, 2.9])\n",
    "\n",
    "# Fake goodness-of-fit values\n",
    "cs1 = chi_squared(obs1, exp1)\n",
    "cs2 = chi_squared(obs2, exp2)\n",
    "\n",
    "# Print results\n",
    "print(\"Goodness-of-fit for dataset 1: {0:.4f}.\".format(cs1))\n",
    "print(\"Goodness-of-fit for dataset 2: {0:.4f}.\".format(cs2))\n",
    "\n",
    "# Check that the chi-squared function works\n",
    "assert_equal(round(cs1, 4), 3.3199)\n",
    "assert_equal(round(cs2, 4), 4.0783)"
   ]
  },
  {
   "cell_type": "markdown",
   "metadata": {
    "deletable": false,
    "editable": false,
    "nbgrader": {
     "cell_type": "markdown",
     "checksum": "aa863122622047897e26a8651bea58d6",
     "grade": false,
     "grade_id": "cell-8fe062ca0d4f7d9a",
     "locked": true,
     "schema_version": 3,
     "solution": false
    }
   },
   "source": [
    "## Part 2: Reading the data file (*1 point*)\n",
    "\n",
    "Distance (m) | Velocity (m/a) | Velocity (m/s)\n",
    "------------ | -------------- | --------------\n",
    "-660 | 12 | 3.80E-07\n",
    "-640 | 22 | 7.00E-07\n",
    "-570 | 42 | 1.33E-06\n",
    "-460 | 63 | 2.00E-06\n",
    "-220 | 74 | 2.35E-06\n",
    "40 | 76 | 2.41E-06\n",
    "180 | 74 | 2.35E-06\n",
    "260 | 72 | 2.28E-06\n",
    "500 | 51 | 1.62E-06\n",
    "\n",
    "*Table 1. Velocity measurements across the Saskatchewan glacier.*\n",
    "\n",
    "The file [`data/sask_glacier_velo.txt`](data/sask_glacier_velo.txt) contains a series of surface velocities measured at various locations across the glacier (Table 1). Your task now is to load in this velocity data.\n",
    "\n",
    "- Read the data file [`data/sask_glacier_velo.txt`](data/sask_glacier_velo.txt) using pandas into a DataFrame called `sask`\n",
    "    - Set the column `'Distance (m)'` as the index column"
   ]
  },
  {
   "cell_type": "code",
   "execution_count": null,
   "metadata": {
    "deletable": false,
    "nbgrader": {
     "cell_type": "code",
     "checksum": "ccd7cc79aea0397eeca93f3081af2ff6",
     "grade": false,
     "grade_id": "problem_3_ag_p2_read",
     "locked": false,
     "schema_version": 3,
     "solution": true,
     "task": false
    }
   },
   "outputs": [],
   "source": [
    "# Load the data file\n",
    "sask = None\n",
    "\n",
    "# YOUR CODE HERE\n",
    "raise NotImplementedError()"
   ]
  },
  {
   "cell_type": "code",
   "execution_count": null,
   "metadata": {
    "deletable": false,
    "editable": false,
    "nbgrader": {
     "cell_type": "code",
     "checksum": "c375fa3a336ecf4bc020e26a258b496b",
     "grade": true,
     "grade_id": "problem_3_ag_p2_read_test1",
     "locked": true,
     "points": 1,
     "schema_version": 3,
     "solution": false,
     "task": false
    }
   },
   "outputs": [],
   "source": [
    "# This test should work\n",
    "print('The first 5 rows of the data file are\\n{0}'.format(sask.head()))\n"
   ]
  },
  {
   "cell_type": "markdown",
   "metadata": {
    "deletable": false,
    "editable": false,
    "nbgrader": {
     "cell_type": "markdown",
     "checksum": "0aba3cc3e045f590cda684c408230dd2",
     "grade": false,
     "grade_id": "cell-8fe062ca0d4f7d9ab",
     "locked": true,
     "schema_version": 3,
     "solution": false
    }
   },
   "source": [
    "## Part 3: Comparing to observations (*2 points*)\n",
    "\n",
    "The next task is to calculate ice velocities at locations corresponding to the observed velocity measurements and compare the predictions to the data in the data file.\n",
    "\n",
    "- Loop over the power-law exponent values $n=2$ to $n=5$ and calculate the velocity of ice using the `channel_velocity` function at the positions where the velocity of the Saskatchewan glacier has been observed in the data file\n",
    "    - Use the default function values other than the power-law exponent and values for `y`\n",
    "    - You should label the new column in your `sask` DataFrame using the power-law exponent. For example, you could have a column called `n = 2` for a power-law exponent of 2.\n",
    "    - **Note**: You should convert your channel velocities from m/s to m/a before storing them in the `sask` DataFrame!\n",
    "- For each set of predicted ice flow velocities, calculate the goodness-of-fit to the observed ice velocities and append this to the `gof_sask` list"
   ]
  },
  {
   "cell_type": "code",
   "execution_count": null,
   "metadata": {
    "deletable": false,
    "nbgrader": {
     "cell_type": "code",
     "checksum": "f9587f62ceb71358a30bae7a64e86f52",
     "grade": false,
     "grade_id": "problem_3_ag_p3_gof",
     "locked": false,
     "schema_version": 3,
     "solution": true,
     "task": false
    }
   },
   "outputs": [],
   "source": [
    "# Calculate the goodness-of-fit\n",
    "gof_sask = []\n",
    "\n",
    "# YOUR CODE HERE\n",
    "raise NotImplementedError()"
   ]
  },
  {
   "cell_type": "code",
   "execution_count": null,
   "metadata": {
    "deletable": false,
    "editable": false,
    "nbgrader": {
     "cell_type": "code",
     "checksum": "1ad34741d907050096f4dddfa4219d38",
     "grade": true,
     "grade_id": "problem_3_ag_p3_gof_test1",
     "locked": true,
     "points": 1,
     "schema_version": 3,
     "solution": false,
     "task": false
    }
   },
   "outputs": [],
   "source": [
    "# This test should work\n",
    "print('The first calculated ice velocity should be 12.31 m/a. My first calculated ice velocity is {0:.2f}.'.format(sask.iloc[0,2]))\n"
   ]
  },
  {
   "cell_type": "code",
   "execution_count": null,
   "metadata": {
    "deletable": false,
    "editable": false,
    "nbgrader": {
     "cell_type": "code",
     "checksum": "6bcd54af582e23fe3c3fdc7ea70fc522",
     "grade": true,
     "grade_id": "problem_3_ag_p3_gof_test2",
     "locked": true,
     "points": 1,
     "schema_version": 3,
     "solution": false,
     "task": false
    }
   },
   "outputs": [],
   "source": [
    "# This test should work\n",
    "print('The first goodness of fit should be 3.83. My first goodness of fit is {0:.2f}.'.format(gof_sask[0]))\n"
   ]
  },
  {
   "cell_type": "markdown",
   "metadata": {
    "deletable": false,
    "editable": false,
    "nbgrader": {
     "cell_type": "markdown",
     "checksum": "1bd3c058ce613ce6abd13ff729e0c1c7",
     "grade": false,
     "grade_id": "cell-e19f29f8c7e83ed7",
     "locked": true,
     "schema_version": 3,
     "solution": false,
     "task": false
    }
   },
   "source": [
    "## Part 4: Plotting your results (*2 points*)\n",
    "\n",
    "The last task in this problem is to plot the predicted ice flow velocities along with the observed values and show the best goodness of fit as text on the plot.\n",
    "\n",
    "- Plot the measured velocities along with the 4 predicted velocity profiles you have calculated **in meters per year (m/a)**\n",
    "    - For the predicted velocities, use the values from the `channel` DataFrame from Problem 2\n",
    "    - For the observed velocities, use the values from the `sask` DataFrame\n",
    "        - Plot these as black circles\n",
    "    - Be sure to label your axes and include a title\n",
    "    - Also add the best goodness-of-fit value as text on the plot along with the corresponding power-law exponent value\n",
    "- Add a figure caption in the Markdown cell beneath the plot, describing the figure as if it were in a scientific journal article"
   ]
  },
  {
   "cell_type": "code",
   "execution_count": null,
   "metadata": {
    "deletable": false,
    "nbgrader": {
     "cell_type": "code",
     "checksum": "34177727c5d73bc0b44b6729bd0902f6",
     "grade": true,
     "grade_id": "problem_3_mg_p4_plot",
     "locked": false,
     "points": 1.5,
     "schema_version": 3,
     "solution": true,
     "task": false
    }
   },
   "outputs": [],
   "source": [
    "# Plot your results below\n",
    "ax = None\n",
    "\n",
    "# YOUR CODE HERE\n",
    "raise NotImplementedError()"
   ]
  },
  {
   "cell_type": "markdown",
   "metadata": {
    "deletable": false,
    "nbgrader": {
     "cell_type": "markdown",
     "checksum": "a6c51fdc13677d568dd118190a721d04",
     "grade": true,
     "grade_id": "problem_3_mg_p4_plot_caption",
     "locked": false,
     "points": 0.5,
     "schema_version": 3,
     "solution": true
    }
   },
   "source": [
    "YOUR ANSWER HERE"
   ]
  },
  {
   "cell_type": "markdown",
   "metadata": {
    "deletable": false,
    "editable": false,
    "nbgrader": {
     "cell_type": "markdown",
     "checksum": "0e1a3bfb60a82cc3b175f55649a5a58c",
     "grade": false,
     "grade_id": "cell-728758e35292a008",
     "locked": true,
     "schema_version": 3,
     "solution": false
    }
   },
   "source": [
    "# Problem 4 - Non-Newtonian ice flow down an inclined plane (*7 points*)\n",
    "\n",
    "The [Athabasca glacier](https://goo.gl/maps/HggYfoKxEUQ2) (Figure 2) is another glacier in the Columbia Icefield, which will be the focus in this problem.\n",
    "\n",
    "![Athabasca glacier](https://upload.wikimedia.org/wikipedia/commons/4/41/Icefields_parkway.jpg)<br/>\n",
    "*Figure 2. Athabasca glacier.*\n",
    "\n",
    "**Notice**: Closely follow the instructions! For example, you should be sure to use **exactly** the same variable names mentioned in the instructions because your answers will be automatically graded, and the tests that grade your answers rely on following the same formatting or variable naming as in the instructions.\n",
    "\n",
    "**Your score on this problem will be based on following criteria**:\n",
    "\n",
    "- Creating a Python function for calculating the gravitational force\n",
    "- Creating a Python function for calculating the ice velocity\n",
    "- Reading in the data file\n",
    "- Comparing predictions for the ice flow velocity to observations from the data file\n",
    "- Plotting your results\n",
    "- Including comments that explain what most lines in the code do\n",
    "- Uploading your notebook to your GitHub repository for this week's exercise"
   ]
  },
  {
   "cell_type": "markdown",
   "metadata": {
    "deletable": false,
    "editable": false,
    "nbgrader": {
     "cell_type": "markdown",
     "checksum": "fbd26d29bef77e8a7228fbc61b23c7a6",
     "grade": false,
     "grade_id": "cell-a7703cd4cbdc83b6",
     "locked": true,
     "schema_version": 3,
     "solution": false,
     "task": false
    }
   },
   "source": [
    "## Part 1: Background and theory (*0 points*)\n",
    "\n",
    "First read through the [background and theory](https://introqg.github.io/site/lessons/L5/exercise-5-theory.html#problem-2) for this problem before proceeding.\n",
    "\n",
    "- Read through the [background and theory](https://introqg.github.io/site/lessons/L5/exercise-5-theory.html#problem-2) for this problem"
   ]
  },
  {
   "cell_type": "markdown",
   "metadata": {
    "deletable": false,
    "editable": false,
    "nbgrader": {
     "cell_type": "markdown",
     "checksum": "a543f2f04ef9bed00ec12305fcb64fe1",
     "grade": false,
     "grade_id": "cell-5f2e375ae6d36ab9",
     "locked": true,
     "schema_version": 3,
     "solution": false
    }
   },
   "source": [
    "## Part 2: A gravitational force function?!? (*1 point*)\n",
    "\n",
    "In this problem we will be calculating the flow of ice down a slope resulting from a gravitational forces on the glacier. As above, we will consider both Newtonian and non-Newtonian fluids, this time using Equation 19 from the [background and theory for this problem](https://introqg.github.io/site/lessons/L5/exercise-5-theory.html#problem-2), which is also shown below\n",
    "\n",
    "\\begin{equation}\n",
    "  \\large\n",
    "  u(z) = u_{\\mathrm{b}} + \\frac{a}{n + 1} \\gamma_{x}^{n} \\left[ h^{n + 1} - (h - z)^{n + 1} \\right]\n",
    "\\end{equation}\n",
    "\n",
    "where $u_{\\mathrm{b}}$ is the basal sliding velocity of the glacier, $a$ is a function of the viscosity and temperature (we will ignore temperature for now), $n$ is the power-law exponent, $\\gamma_{x}$ is the downslope component of the gravitational force, $h$ is the thickness of the ice perpendicular to the slope, and $z$ is the array of distances from the base of the glacier. Similar to Problem 3, the value for the gravitational force $\\gamma_{x}$ is not known, but we can create a function to estimate its value.\n",
    "\n",
    "- Create a function called `gravity_force` that calculates the value of $\\gamma_{x}^{n}$ for a given value of the power-law exponent `n`.\n",
    "    - You can solve for $\\gamma_{x}^{n}$ by rearranging Equation 19 (see above) to solve for $\\gamma_{x}^{n}$ and using the condition that the maximum flow velocity $u = 9.1 \\times 10^{-7}$ m/s occurs at $z = h = 209$ m (see Table 2 in Part 4).\n",
    "    - Note that you should assume the basal sliding velocity $u_{\\mathrm{b}}$ is zero for the Newtonian case and equal to the observed sliding velocity $u_{\\mathrm{b}} = 1.30 \\times 10^{7}$ m/s for the non-Newtonian cases (see Table 2 in Part 4).\n",
    "    - Again, assume $a = 5 \\times 10^{-24}$ Pa<sup>-3</sup> s<sup>-1</sup> and $h = 209$ m.\n",
    "    - Your function parameters should include\n",
    "        - The power-law exponent `n`\n",
    "        - The ice thickness `h`\n",
    "        - The viscosity/temperature constant `a`\n",
    "        - The maximum ice flow velocity `u_max`\n",
    "        - The basal sliding velocity `u_basal`"
   ]
  },
  {
   "cell_type": "code",
   "execution_count": null,
   "metadata": {
    "deletable": false,
    "nbgrader": {
     "cell_type": "code",
     "checksum": "8f4c73075172ace22d120a21b030b8d0",
     "grade": false,
     "grade_id": "problem_4_ag_p2_gamma_x",
     "locked": false,
     "schema_version": 3,
     "solution": true
    }
   },
   "outputs": [],
   "source": [
    "def gravity_force(n, h=209.0, a=5.0e-24, u_max=9.1e-7, u_basal=1.3e-7):\n",
    "    \"\"\"Calculate gravitational force for ice flowing down a slope.\n",
    "    \n",
    "    Keyword arguments:\n",
    "    n -- viscous flow power-law expoenent\n",
    "    h -- ice thickness normal to slope (units: m; default: 209.0)\n",
    "    a -- viscosity/temperature constant (units: Pa^-3 s^-1; default: 5.0e-24)\n",
    "    u_max -- approximate channel velocity at z = h (units: m/s; default: 9.1e-7)\n",
    "    u_basal -- basal sliding velocity (units: m/s; default: 1.3e-7)\n",
    "    \"\"\"\n",
    "# YOUR CODE HERE\n",
    "raise NotImplementedError()"
   ]
  },
  {
   "cell_type": "code",
   "execution_count": null,
   "metadata": {
    "deletable": false,
    "editable": false,
    "nbgrader": {
     "cell_type": "code",
     "checksum": "aea0b76bea2c5cf05618bbbc5a4b003e",
     "grade": true,
     "grade_id": "problem_4_ag_p2_gamma_x_test1",
     "locked": true,
     "points": 0.5,
     "schema_version": 3,
     "solution": false
    }
   },
   "outputs": [],
   "source": [
    "# The visible tests below should work\n",
    "from nose.tools import assert_equal\n",
    "\n",
    "# Function test calculations\n",
    "force1 = gravity_force(n=1, h=209.0, a=5.0e-24, u_max=9.1e-7, u_basal=1.3e-7)\n",
    "\n",
    "# Print results\n",
    "print('The gravity force for n=1 should be 8333142556260.158. My gravity force value is {0:.3f}'.format(force1))\n",
    "\n",
    "# Check the other test calculations\n",
    "assert_equal(round(force1, 3), 8333142556260.158)"
   ]
  },
  {
   "cell_type": "code",
   "execution_count": null,
   "metadata": {
    "deletable": false,
    "editable": false,
    "nbgrader": {
     "cell_type": "code",
     "checksum": "180570933a1516eaf083210f069561cc",
     "grade": true,
     "grade_id": "problem_4_ag_p2_gamma_x_test2",
     "locked": true,
     "points": 0.5,
     "schema_version": 3,
     "solution": false,
     "task": false
    }
   },
   "outputs": [],
   "source": [
    "# The visible tests below should work\n",
    "from nose.tools import assert_equal\n",
    "\n",
    "# Function test calculations\n",
    "force2 = gravity_force(n=5, h=209.0, a=5.0e-24, u_max=9.1e-7, u_basal=1.3e-7)\n",
    "force3 = gravity_force(n=7, h=209.0, a=5.0e-24, u_max=9.1e-7, u_basal=1.3e-7)\n",
    "\n",
    "# Print results\n",
    "print('The gravity force for n=5 should be 11230.475. My gravity force value is {0:.3f}'.format(force2))\n",
    "\n",
    "# Check the other test calculations\n",
    "assert_equal(round(force2, 3), 11230.475)\n",
    "assert_equal(round(force3, 3), 0.343)"
   ]
  },
  {
   "cell_type": "markdown",
   "metadata": {
    "deletable": false,
    "editable": false,
    "nbgrader": {
     "cell_type": "markdown",
     "checksum": "e8ec3d6f580de6d4fe505898f8880217",
     "grade": false,
     "grade_id": "cell-83a717adf05cc85f",
     "locked": true,
     "schema_version": 3,
     "solution": false
    }
   },
   "source": [
    "## Part 3: An ice flow velocity function, again (*1 point*)\n",
    "\n",
    "Your next task is to create a function to calculate the velocity profile for ice flowing down a slope (Equation 19), shown in Part 2.\n",
    "\n",
    "- Create a function called `slope_velocity` that calculates the velocity of ice flowing down a slope using Equation 19 from the [background and theory](https://introqg.github.io/site/lessons/L5/exercise-5-theory.html#problem-2), which was shown in the previous part.\n",
    "    - Your function should use the `gravity_force` function created in the previous part.\n",
    "    - As in the previous part you should assume $a = 5 \\times 10^{-24}$ Pa<sup>-3</sup> s<sup>-1</sup>, $h = 209$ m, and the maximum flow velocity $u_{\\mathrm{max}} = 9.1 \\times 10^{-7}$ m/s.\n",
    "    - Also you should again assume the basal sliding velocity $u_{\\mathrm{b}}$ is zero for the Newtonian case and equal to the observed sliding velocity $u_{\\mathrm{b}} = 1.30 \\times 10^{7}$ m/s for the non-Newtonian cases (see Table 2 in Part 4).\n",
    "    - Your function parameters should include\n",
    "        - The power-law exponent `n`\n",
    "        - The channel thickness array `z`\n",
    "        - The ice thickness `h`\n",
    "        - The viscosity/temperature constant `a`\n",
    "        - The maximum ice flow velocity `u_max`\n",
    "        - The basal sliding velocity `u_basal`"
   ]
  },
  {
   "cell_type": "code",
   "execution_count": null,
   "metadata": {
    "deletable": false,
    "nbgrader": {
     "cell_type": "code",
     "checksum": "62241a404602f8a75a2f6a63d242210c",
     "grade": false,
     "grade_id": "problem_4_ag_p3_slope_velocity",
     "locked": false,
     "schema_version": 3,
     "solution": true
    }
   },
   "outputs": [],
   "source": [
    "def slope_velocity(n, z, h=209.0, a=5.0e-24, u_max=9.1e-7, u_basal=1.3e-7):\n",
    "    \"\"\"Calculate velocity profile of ice flowing downslope.\n",
    "    \n",
    "    Keyword arguments:\n",
    "    n -- viscous flow power-law expoenent\n",
    "    z -- array of distances from the channel base (units: m)\n",
    "    h -- ice thickness normal to slope (units: m; default: 209.0)\n",
    "    a -- viscosity/temperature constant (units: Pa^-3 s^-1; default: 5.0e-24)\n",
    "    u_max -- Approximate maximum flow velocity at z = h (units: m/s; default: 9.1e-7)\n",
    "    u_basal -- Basal sliding velocity (units: m/s; default: 1.3e-7)\n",
    "    \"\"\"\n",
    "# YOUR CODE HERE\n",
    "raise NotImplementedError()"
   ]
  },
  {
   "cell_type": "code",
   "execution_count": null,
   "metadata": {
    "deletable": false,
    "editable": false,
    "nbgrader": {
     "cell_type": "code",
     "checksum": "15184ff7df8f79ecb719e05c24c0e224",
     "grade": true,
     "grade_id": "problem_4_ag_p3_slope_velocity_test1",
     "locked": true,
     "points": 0.5,
     "schema_version": 3,
     "solution": false
    }
   },
   "outputs": [],
   "source": [
    "# The visible tests below should work\n",
    "from nose.tools import assert_equal\n",
    "\n",
    "# Function test calculations\n",
    "z1 = np.array([0.0, 21.0, 74.0, 104.0, 159.0, 209.0])\n",
    "velocity1 = slope_velocity(n=3, z=z1, h=209.0, a=5.0e-24, u_max=9.1e-7, u_basal=1.3e-7)\n",
    "\n",
    "# Print results\n",
    "print('The velocity velocity1[4] for n=3 should be 0.00000091 m/s. My velocity value is {0:.8f}.'.format(velocity1[4]))\n",
    "\n",
    "# Check the other test calculations\n",
    "assert_equal(round(velocity1[-1], 8), 9.1e-07)\n",
    "assert_equal(round(velocity1[3], 8), 8.6e-07)"
   ]
  },
  {
   "cell_type": "code",
   "execution_count": null,
   "metadata": {
    "deletable": false,
    "editable": false,
    "nbgrader": {
     "cell_type": "code",
     "checksum": "38f85843d25164b0efb107757d45059e",
     "grade": true,
     "grade_id": "problem_4_ag_p3_slope_velocity_test2",
     "locked": true,
     "points": 0.5,
     "schema_version": 3,
     "solution": false,
     "task": false
    }
   },
   "outputs": [],
   "source": [
    "# The visible tests below should work\n",
    "\n",
    "# Function test calculations\n",
    "velocity2 = slope_velocity(n=1, z=z1, h=209.0, a=5.0e-24, u_max=9.1e-7, u_basal=1.3e-7)\n",
    "velocity3 = slope_velocity(n=7, z=z1, h=209.0, a=5.0e-24, u_max=9.1e-7, u_basal=1.3e-7)\n",
    "\n",
    "# Print results\n",
    "print('The velocity velocity2[4] for n=1 should be 0.00000086 m/s. My velocity value is {0:.8f}.'.format(velocity2[4]))\n",
    "\n",
    "# Check the other test calculations\n",
    "assert_equal(round(velocity2[-1], 8), 9.1e-07)\n",
    "assert_equal(round(velocity2[3], 8), 6.8e-07)\n",
    "assert_equal(round(velocity3[-1], 9), 9.1e-07)\n",
    "assert_equal(round(velocity3[3], 9), 9.07e-07)"
   ]
  },
  {
   "cell_type": "markdown",
   "metadata": {
    "deletable": false,
    "editable": false,
    "nbgrader": {
     "cell_type": "markdown",
     "checksum": "aec363a89f332ff52b63f22ad0e05229",
     "grade": false,
     "grade_id": "cell-3dc006a66003d55f",
     "locked": true,
     "schema_version": 3,
     "solution": false
    }
   },
   "source": [
    "## Part 4: Reading the data file (*1 point*)\n",
    "\n",
    "Depth from surface (m) | Height from base (m) | Velocity (m/a) | Velocity (m/s)\n",
    "---------------------- | -------------------- | -------------- | --------------\n",
    "0 | 209 | 28.6 | 9.10E-07\n",
    "15 | 195 | 28.5 | 9.00E-07\n",
    "30 | 180 | 28.5 | 9.00E-07\n",
    "45 | 165 | 28.4 | 9.00E-07\n",
    "60 | 150 | 28.2 | 8.90E-07\n",
    "75 | 135 | 28.0 | 8.90E-07\n",
    "90 | 120 | 27.7 | 8.80E-07\n",
    "105 | 105 | 27.2 | 8.60E-07\n",
    "120 | 90 | 26.5 | 8.40E-07\n",
    "135 | 75 | 25.5 | 8.10E-07\n",
    "150 | 60 | 24.0 | 7.60E-07\n",
    "165 | 45 | 21.5 | 6.80E-07\n",
    "180 | 30 | 17.5 | 5.50E-07\n",
    "195 | 15 | 10 | 3.20E-07\n",
    "209 | 0 | 4 | 1.30E-07\n",
    "\n",
    "*Table 2. Velocities measured from a vertical profile through Athabasca glacier.*\n",
    "\n",
    "A vertical velocity profile for the Athabasca glacier has been measured and the measurements are in the file [`data/atha_glacier_velo.txt`](data/atha_glacier_velo.txt) (Table 2). Your task now is to load in this velocity data.\n",
    "\n",
    "- Read the data file [`data/sask_glacier_velo.txt`](data/sask_glacier_velo.txt) using pandas into a DataFrame called `athabasca`\n",
    "    - **Note**: Do NOT assign an index column, this will cause trouble when plotting the data"
   ]
  },
  {
   "cell_type": "code",
   "execution_count": null,
   "metadata": {
    "deletable": false,
    "nbgrader": {
     "cell_type": "code",
     "checksum": "1841260f66a0beb5a1f193f6767a7f9e",
     "grade": false,
     "grade_id": "problem_4_ag_p4_data",
     "locked": false,
     "schema_version": 3,
     "solution": true,
     "task": false
    }
   },
   "outputs": [],
   "source": [
    "# Read the data file below\n",
    "athabasca = None\n",
    "\n",
    "# YOUR CODE HERE\n",
    "raise NotImplementedError()"
   ]
  },
  {
   "cell_type": "code",
   "execution_count": null,
   "metadata": {
    "deletable": false,
    "editable": false,
    "nbgrader": {
     "cell_type": "code",
     "checksum": "22ffc71a8953808b35a0ddb5ea636ed7",
     "grade": true,
     "grade_id": "problem_4_ag_p4_data_test1",
     "locked": true,
     "points": 1,
     "schema_version": 3,
     "solution": false,
     "task": false
    }
   },
   "outputs": [],
   "source": [
    "# This test should work\n",
    "print('The first 5 rows of the data file are\\n{0}'.format(athabasca.head()))\n"
   ]
  },
  {
   "cell_type": "markdown",
   "metadata": {
    "deletable": false,
    "editable": false,
    "nbgrader": {
     "cell_type": "markdown",
     "checksum": "ee8d2853bb5b5742856f5d38d722d421",
     "grade": false,
     "grade_id": "cell-f788ae8db415e230",
     "locked": true,
     "schema_version": 3,
     "solution": false,
     "task": false
    }
   },
   "source": [
    "## Part 5: Comparing to observations, again (*2 points*)\n",
    "\n",
    "The next task is to calculate ice velocities at locations corresponding to the observed velocity measurements and compare the predictions to the data in the data file.\n",
    "\n",
    "- Loop over the power-law exponent values $n=1$ to $n=5$ and calculate the velocity of ice using the `slope_velocity` function at the positions where the velocity of the Athabasca glacier has been observed in the data file\n",
    "    - Use the default function values other than the power-law exponent and values for `z`\n",
    "    - You should label the new column in your `athabasca` DataFrame using the power-law exponent. For example, you could have a column called `n = 2` for a power-law exponent of 2.\n",
    "    - **Note**: You should convert your ice velocities from m/s to m/a before storing them in the `athabasca` DataFrame!\n",
    "- For each set of predicted ice flow velocities, calculate the goodness-of-fit to the observed ice velocities and append this to the `gof_athabasca` list"
   ]
  },
  {
   "cell_type": "code",
   "execution_count": null,
   "metadata": {
    "deletable": false,
    "nbgrader": {
     "cell_type": "code",
     "checksum": "55baa01b27bcd0bd69965063c5bff069",
     "grade": false,
     "grade_id": "problem_4_ag_p5_gof",
     "locked": false,
     "schema_version": 3,
     "solution": true,
     "task": false
    }
   },
   "outputs": [],
   "source": [
    "# Calculate the goodness-of-fit\n",
    "gof_athabasca = []\n",
    "\n",
    "# YOUR CODE HERE\n",
    "raise NotImplementedError()"
   ]
  },
  {
   "cell_type": "code",
   "execution_count": null,
   "metadata": {
    "deletable": false,
    "editable": false,
    "nbgrader": {
     "cell_type": "code",
     "checksum": "5fd0d87eb0275ee82d755c295a445441",
     "grade": true,
     "grade_id": "problem_4_ag_p5_gof_test1",
     "locked": true,
     "points": 1,
     "schema_version": 3,
     "solution": false,
     "task": false
    }
   },
   "outputs": [],
   "source": [
    "# This test should work\n",
    "print('The first calculated ice velocity should be 28.72 m/a. My first calculated ice velocity is {0:.2f}.'.format(athabasca.iloc[0,4]))\n"
   ]
  },
  {
   "cell_type": "code",
   "execution_count": null,
   "metadata": {
    "deletable": false,
    "editable": false,
    "nbgrader": {
     "cell_type": "code",
     "checksum": "ffaf9ae9035d0011907bfdcea289ef06",
     "grade": true,
     "grade_id": "problem_4_ag_p5_gof_test2",
     "locked": true,
     "points": 1,
     "schema_version": 3,
     "solution": false,
     "task": false
    }
   },
   "outputs": [],
   "source": [
    "# This test should work\n",
    "print('The last goodness of fit should be 0.95. My first goodness of fit is {0:.2f}.'.format(gof_athabasca[-1]))\n"
   ]
  },
  {
   "cell_type": "markdown",
   "metadata": {
    "deletable": false,
    "editable": false,
    "nbgrader": {
     "cell_type": "markdown",
     "checksum": "a491e9ef147ef0b35fa1d89f79a338e2",
     "grade": false,
     "grade_id": "cell-295d4c9cf915b366",
     "locked": true,
     "schema_version": 3,
     "solution": false,
     "task": false
    }
   },
   "source": [
    "## Part 6: Plotting your results (*2 points*)\n",
    "\n",
    "The last task in this problem is to again plot the predicted ice flow velocities along with the observed values and show the best goodness of fit as text on the plot.\n",
    "\n",
    "- Plot the measured velocities along with the 5 predicted velocity profiles you have calculated **in meters per year (m/a)** on the x-axis as a function of their **height from the base** on the y-axis\n",
    "    - For the predicted velocities, use the values from the `athabasca` DataFrame\n",
    "    - For the observed velocities, also use the values from the `athabasca` DataFrame\n",
    "        - Plot these as black circles connected by a black line\n",
    "    - Be sure to label your axes and include a title\n",
    "    - Also add the best goodness-of-fit value as text on the plot along with the corresponding power-law exponent value\n",
    "    - **Hint**: You should use the `label` parameter for your plots to provide the text to use for the legend\n",
    "- Add a figure caption in the Markdown cell beneath the plot, describing the figure as if it were in a scientific journal article"
   ]
  },
  {
   "cell_type": "code",
   "execution_count": null,
   "metadata": {
    "deletable": false,
    "nbgrader": {
     "cell_type": "code",
     "checksum": "dbfe58cc1e2a2eba4bc20723a9c33240",
     "grade": true,
     "grade_id": "problem_4_mg_p6_plot",
     "locked": false,
     "points": 1.5,
     "schema_version": 3,
     "solution": true,
     "task": false
    }
   },
   "outputs": [],
   "source": [
    "# Plot your results below\n",
    "ax = None\n",
    "\n",
    "# YOUR CODE HERE\n",
    "raise NotImplementedError()"
   ]
  },
  {
   "cell_type": "markdown",
   "metadata": {
    "deletable": false,
    "nbgrader": {
     "cell_type": "markdown",
     "checksum": "f1617c3b26288563b9836c99b28d6417",
     "grade": true,
     "grade_id": "problem_4_mg_p6_plot_caption",
     "locked": false,
     "points": 0.5,
     "schema_version": 3,
     "solution": true
    }
   },
   "source": [
    "YOUR ANSWER HERE"
   ]
  },
  {
   "cell_type": "markdown",
   "metadata": {
    "deletable": false,
    "editable": false,
    "nbgrader": {
     "cell_type": "markdown",
     "checksum": "78894ebd8f4c6359a715226266ea1cba",
     "grade": false,
     "grade_id": "cell-c3fcafc16cc7d9df",
     "locked": true,
     "schema_version": 3,
     "solution": false
    }
   },
   "source": [
    "# Summary questions for this exercise (*1 point*)\n",
    "\n",
    "1. Based on your models, what is the most likely power-law exponent for glacial ice?\n",
    "2. Looking at your plots, how sensitive is the velocity of ice to the power-law exponent?"
   ]
  },
  {
   "cell_type": "markdown",
   "metadata": {
    "deletable": false,
    "nbgrader": {
     "cell_type": "markdown",
     "checksum": "387e2b75f0592ed6bac856dba8cf2679",
     "grade": true,
     "grade_id": "summary_questions_mg",
     "locked": false,
     "points": 1,
     "schema_version": 3,
     "solution": true,
     "task": false
    }
   },
   "source": [
    "YOUR ANSWER HERE"
   ]
  }
 ],
 "metadata": {
  "kernelspec": {
   "display_name": "Python 3",
   "language": "python",
   "name": "python3"
  },
  "language_info": {
   "codemirror_mode": {
    "name": "ipython",
    "version": 3
   },
   "file_extension": ".py",
   "mimetype": "text/x-python",
   "name": "python",
   "nbconvert_exporter": "python",
   "pygments_lexer": "ipython3",
   "version": "3.7.4"
  }
 },
 "nbformat": 4,
 "nbformat_minor": 2
}
